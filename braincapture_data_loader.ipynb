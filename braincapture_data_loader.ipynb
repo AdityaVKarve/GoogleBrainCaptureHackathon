{
 "cells": [
  {
   "cell_type": "code",
   "execution_count": 1,
   "metadata": {},
   "outputs": [],
   "source": [
    "import os\n",
    "import numpy as np\n",
    "from tqdm.notebook import tqdm\n",
    "\n",
    "from src.data.utils.eeg import get_raw\n",
    "\n",
    "# we define the annotations from the two datasets we want to use\n",
    "from src.data.conf.eeg_annotations import braincapture_annotations\n",
    "\n",
    "from src.data.processing import load_data_dict, get_data"
   ]
  },
  {
   "cell_type": "code",
   "execution_count": 2,
   "metadata": {},
   "outputs": [],
   "source": [
    "import logging\n",
    "\n",
    "# Suppress logger messages from MNE-Python\n",
    "mne_logger = logging.getLogger('mne')\n",
    "mne_logger.setLevel(logging.ERROR)"
   ]
  },
  {
   "cell_type": "markdown",
   "metadata": {},
   "source": [
    "## The Structure of the BrainCapture Data"
   ]
  },
  {
   "cell_type": "markdown",
   "metadata": {},
   "source": [
    "Let's start by fetching some BrainCapture data. We define the path to the GCP bucket and inspect the contents."
   ]
  },
  {
   "cell_type": "code",
   "execution_count": 3,
   "metadata": {},
   "outputs": [
    {
     "name": "stdout",
     "output_type": "stream",
     "text": [
      "The BrainCapture dataset contains 133 subject folders and 136 files!\n"
     ]
    }
   ],
   "source": [
    "braincapture_data_folder = r'C:/Users/wille/OneDrive - Danmarks Tekniske Universitet/Dokumenter/0. Thesis/trustworthy-causal-ai/data/hackathon 01/BC Bhutan/v4.0/'\n",
    "\n",
    "subject_folders = os.listdir(braincapture_data_folder)\n",
    "number_files = np.sum([len(os.listdir(braincapture_data_folder + folder)) for folder in subject_folders])\n",
    "\n",
    "print('The BrainCapture dataset contains', len(subject_folders), 'subject folders and', number_files, 'files!')"
   ]
  },
  {
   "cell_type": "markdown",
   "metadata": {},
   "source": [
    "We now look at a specific EDF file, that is, one recording for one subject. EDF is the format in which the EEG data is stored. One EDF file corresponds to one EEG recording. The EDF files can be found in the provided GCP bucket following the structure:"
   ]
  },
  {
   "cell_type": "markdown",
   "metadata": {},
   "source": [
    "```.\n",
    "├── BrainCapture Dataset\n",
    "│   ├── S001\n",
    "│   │   └── S001R01.edf\n",
    "│   ├── S002\n",
    "│   │   └── S002R01.edf\n",
    "│   └── ...\n",
    "└── TUH Dataset\n",
    "```"
   ]
  },
  {
   "cell_type": "markdown",
   "metadata": {},
   "source": [
    "## Inspecting the EEG data"
   ]
  },
  {
   "cell_type": "markdown",
   "metadata": {},
   "source": [
    "We define the path for the specific file. Then, we call the function **get_raw** to extract the EEG data from the EDF file. At the same time, we perform preprocessing on the data. This includes standard signal processing filters and choosing the right EEG electrode channels.\n",
    "\n",
    "**NB: If you are interested in the preprocessing steps, have a look at src.data.utils.eeg.py**"
   ]
  },
  {
   "cell_type": "code",
   "execution_count": 4,
   "metadata": {},
   "outputs": [
    {
     "data": {
      "text/html": [
       "<table class=\"table table-hover table-striped table-sm table-responsive small\">\n",
       "    <tr>\n",
       "        <th>Measurement date</th>\n",
       "        \n",
       "        <td>June 05, 2023  12:53:59 GMT</td>\n",
       "        \n",
       "    </tr>\n",
       "    <tr>\n",
       "        <th>Experimenter</th>\n",
       "        \n",
       "        <td>Unknown</td>\n",
       "        \n",
       "    </tr>\n",
       "        <th>Participant</th>\n",
       "        \n",
       "            \n",
       "            <td>X</td>\n",
       "            \n",
       "        \n",
       "    </tr>\n",
       "    <tr>\n",
       "        <th>Digitized points</th>\n",
       "        \n",
       "        <td>22 points</td>\n",
       "        \n",
       "    </tr>\n",
       "    <tr>\n",
       "        <th>Good channels</th>\n",
       "        <td>19 EEG</td>\n",
       "    </tr>\n",
       "    <tr>\n",
       "        <th>Bad channels</th>\n",
       "        <td>None</td>\n",
       "    </tr>\n",
       "    <tr>\n",
       "        <th>EOG channels</th>\n",
       "        <td>Not available</td>\n",
       "    </tr>\n",
       "    <tr>\n",
       "        <th>ECG channels</th>\n",
       "        <td>Not available</td>\n",
       "    \n",
       "    <tr>\n",
       "        <th>Sampling frequency</th>\n",
       "        <td>256.00 Hz</td>\n",
       "    </tr>\n",
       "    \n",
       "    \n",
       "    <tr>\n",
       "        <th>Highpass</th>\n",
       "        <td>1.00 Hz</td>\n",
       "    </tr>\n",
       "    \n",
       "    \n",
       "    <tr>\n",
       "        <th>Lowpass</th>\n",
       "        <td>70.00 Hz</td>\n",
       "    </tr>\n",
       "    \n",
       "    \n",
       "    \n",
       "    <tr>\n",
       "        <th>Filenames</th>\n",
       "        <td>S001R01.edf</td>\n",
       "    </tr>\n",
       "    \n",
       "    <tr>\n",
       "        <th>Duration</th>\n",
       "        <td>00:31:08 (HH:MM:SS)</td>\n",
       "    </tr>\n",
       "</table>"
      ],
      "text/plain": [
       "<RawEDF | S001R01.edf, 19 x 478208 (1868.0 s), ~69.3 MB, data loaded>"
      ]
     },
     "execution_count": 4,
     "metadata": {},
     "output_type": "execute_result"
    }
   ],
   "source": [
    "subject = 'S001'\n",
    "session = 'R01'\n",
    "\n",
    "example_file = braincapture_data_folder + f'{subject}/{subject}{session}.edf'\n",
    "\n",
    "raw = get_raw(example_file)\n",
    "raw"
   ]
  },
  {
   "cell_type": "markdown",
   "metadata": {},
   "source": [
    "The **raw object** contains the EEG data as well as meta data related to the recording such as number of channels, sampling frequency, and band pass filters (see https://en.wikipedia.org/wiki/Band-pass_filter). EEG data consists of the electrical brainwave signals collected at different locations on the scalp of the head. We describe these different signals as channels. the **raw object** contains a lot of interesting information about the recording. For example, the channel names or types can be extracted:"
   ]
  },
  {
   "cell_type": "code",
   "execution_count": 5,
   "metadata": {},
   "outputs": [
    {
     "name": "stdout",
     "output_type": "stream",
     "text": [
      "Channel names: \n",
      " ['Fp1', 'Fp2', 'F7', 'F3', 'Fz', 'F4', 'F8', 'T7', 'C3', 'Cz', 'C4', 'T8', 'P7', 'P3', 'Pz', 'P4', 'P8', 'O1', 'O2']\n",
      "Channel types: \n",
      " ['eeg', 'eeg', 'eeg', 'eeg', 'eeg', 'eeg', 'eeg', 'eeg', 'eeg', 'eeg', 'eeg', 'eeg', 'eeg', 'eeg', 'eeg', 'eeg', 'eeg', 'eeg', 'eeg']\n"
     ]
    }
   ],
   "source": [
    "print('Channel names: \\n', raw.info['ch_names'])\n",
    "print('Channel types: \\n', raw.get_channel_types())"
   ]
  },
  {
   "cell_type": "markdown",
   "metadata": {},
   "source": [
    "We see that all of the channels contain EEG data. We can use the Python library **MNE** to manipulate raw objects and to visualise properties of EEG recordings. Here, we look at the placement of the 19 EEG electrodes:"
   ]
  },
  {
   "cell_type": "code",
   "execution_count": 6,
   "metadata": {},
   "outputs": [
    {
     "data": {
      "image/png": "[encoded data removed]",
      "text/plain": [
       "<Figure size 400x400 with 1 Axes>"
      ]
     },
     "metadata": {},
     "output_type": "display_data"
    }
   ],
   "source": [
    "import mne\n",
    "import matplotlib.pyplot as plt\n",
    "\n",
    "fig, ax = plt.subplots(1, 1, figsize=(4, 4))\n",
    "mne.viz.plot_sensors(raw.info, show_names=True, axes=ax);"
   ]
  },
  {
   "cell_type": "markdown",
   "metadata": {},
   "source": [
    "The electrodes follow the standard 1020 configuration (see: https://en.wikipedia.org/wiki/10%E2%80%9320_system_(EEG)). For further inspection of the EEG signals, we recommend opening the EDF files in the EDFbrowser application - please ask for guidance."
   ]
  },
  {
   "cell_type": "markdown",
   "metadata": {},
   "source": [
    "## Loading the Entire Dataset"
   ]
  },
  {
   "cell_type": "markdown",
   "metadata": {},
   "source": [
    "To load the entire BrainCapture dataset, we use **load_data_dict**. This function loads every EDF files in the dataset using **get_raw** and when **labels = True**, extracts the annotations from the EDf file. The reason we store the data in a dictionary is to maintain subject level information. This is useful if we wish to perform (leave-subject(s)-out) cross-validation at a later point."
   ]
  },
  {
   "cell_type": "code",
   "execution_count": 7,
   "metadata": {},
   "outputs": [
    {
     "name": "stderr",
     "output_type": "stream",
     "text": [
      "100%|██████████| 133/133 [01:35<00:00,  1.40it/s]\n"
     ]
    }
   ],
   "source": [
    "data_dict = load_data_dict(data_folder_path=braincapture_data_folder, annotation_dict=braincapture_annotations, tmin=-0.5, tlen=6, labels=True)"
   ]
  },
  {
   "cell_type": "markdown",
   "metadata": {},
   "source": [
    "The **load_data_dict** allows for data extraction with annotations (**labels = True**) for supervised learning or without annotations (**labels = False**, default) for unsupervised learning. If **labels = True**, we need to provide **annotation_dict** containing information about the annotations that we want to extract as labels. In the beginning of the script, we import **braincapture_annotations** that contains a dict of the annotations that are present in the BrainCapture dataset.\n",
    "\n",
    "If **labels = True**, we only extract data with annotations, that is, substantially less data than the entire recording. The way that the BrainCapture Dataset is constructed, the recordings follow a 30-minute routine EEG including 5-second exercises in the beginning. These exercises make out the annotations which means that (most of) the recordings contains 5 annotated windows of 5 seconds all within the first minute of the recording, see the visualisation below."
   ]
  },
  {
   "cell_type": "code",
   "execution_count": 8,
   "metadata": {},
   "outputs": [
    {
     "data": {
      "image/png": "[encoded data removed]",
      "text/plain": [
       "<Figure size 1500x300 with 1 Axes>"
      ]
     },
     "metadata": {},
     "output_type": "display_data"
    }
   ],
   "source": [
    "events, event_id = mne.events_from_annotations(raw)\n",
    "\n",
    "fig, ax = plt.subplots(1, 1, figsize=(15, 3))\n",
    "mne.viz.plot_events(events, raw.info['sfreq'], raw.first_samp, event_id=event_id, axes=ax);"
   ]
  },
  {
   "cell_type": "markdown",
   "metadata": {},
   "source": [
    "The data can now be extracted using the **get_data** function. Here, the subject level information is dropped as we convert the data to **torch.Tensors**. \n",
    "\n",
    "If the dictionary contains labels, the function returns **X, y**, otherwise simply **X**."
   ]
  },
  {
   "cell_type": "code",
   "execution_count": 9,
   "metadata": {},
   "outputs": [
    {
     "name": "stdout",
     "output_type": "stream",
     "text": [
      "X shape: torch.Size([831, 20, 1537])\n",
      "y shape: torch.Size([831])\n"
     ]
    }
   ],
   "source": [
    "all_subjects = list(data_dict.keys())\n",
    "\n",
    "X, y = get_data(data_dict, all_subjects)\n",
    "print('X shape:', X.shape)\n",
    "print('y shape:', y.shape)"
   ]
  },
  {
   "cell_type": "markdown",
   "metadata": {},
   "source": [
    "The **get_data** function takes an argument **subject_list** that described the subjects that should be included in the data. By default, all subject are included in the data, but splits can be made to generate training and testing sets."
   ]
  },
  {
   "cell_type": "code",
   "execution_count": 12,
   "metadata": {},
   "outputs": [
    {
     "name": "stdout",
     "output_type": "stream",
     "text": [
      "Train subjects: ['S001', 'S002', 'S003', 'S004', 'S005', 'S006', 'S007', 'S008', 'S009', 'S010', 'S011', 'S012', 'S013', 'S014', 'S015', 'S016', 'S017', 'S018', 'S019', 'S020', 'S021', 'S022', 'S023', 'S024', 'S025', 'S026', 'S027', 'S028', 'S029', 'S030', 'S031', 'S032', 'S033', 'S034', 'S035', 'S036', 'S037', 'S038', 'S039', 'S040', 'S041', 'S042', 'S043', 'S044', 'S045', 'S046', 'S047', 'S048', 'S049', 'S050', 'S051', 'S052', 'S053', 'S054', 'S055', 'S056', 'S057', 'S058', 'S059', 'S060', 'S061', 'S062', 'S063', 'S064', 'S065', 'S066', 'S067', 'S068', 'S069', 'S070', 'S071', 'S072', 'S073', 'S074', 'S075', 'S076', 'S077', 'S078', 'S079', 'S080', 'S081', 'S082', 'S083', 'S084', 'S085', 'S086', 'S087', 'S088', 'S089', 'S090', 'S091', 'S092', 'S093', 'S094', 'S095', 'S096', 'S097', 'S098', 'S099', 'S100', 'S101', 'S102', 'S103', 'S104', 'S105', 'S106']\n",
      "Test subjects: ['S107', 'S108', 'S109', 'S110', 'S111', 'S112', 'S113', 'S114', 'S115', 'S116', 'S117', 'S118', 'S119', 'S120', 'S121', 'S122', 'S123', 'S124', 'S125', 'S126', 'S127', 'S128', 'S129', 'S130', 'S131', 'S132', 'S133']\n"
     ]
    }
   ],
   "source": [
    "percentage = 0.8\n",
    "\n",
    "train_subjects = all_subjects[:int(len(all_subjects)*percentage)]\n",
    "test_subjects = all_subjects[int(len(all_subjects)*percentage):]\n",
    "\n",
    "print('Train subjects:', train_subjects)\n",
    "print('Test subjects:', test_subjects)\n",
    "\n",
    "X_train, y_train = get_data(data_dict, train_subjects)\n",
    "X_test, y_test = get_data(data_dict, test_subjects)"
   ]
  },
  {
   "cell_type": "markdown",
   "metadata": {},
   "source": [
    "Now you should be ready for modelling! "
   ]
  }
 ],
 "metadata": {
  "kernelspec": {
   "display_name": "braincapture",
   "language": "python",
   "name": "python3"
  },
  "language_info": {
   "codemirror_mode": {
    "name": "ipython",
    "version": 3
   },
   "file_extension": ".py",
   "mimetype": "text/x-python",
   "name": "python",
   "nbconvert_exporter": "python",
   "pygments_lexer": "ipython3",
   "version": "3.11.4"
  }
 },
 "nbformat": 4,
 "nbformat_minor": 2
}
