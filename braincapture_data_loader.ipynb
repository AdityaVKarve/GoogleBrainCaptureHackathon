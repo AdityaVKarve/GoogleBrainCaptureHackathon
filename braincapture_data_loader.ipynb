{
 "cells": [
  {
   "cell_type": "code",
   "execution_count": 1,
   "metadata": {},
   "outputs": [],
   "source": [
    "import os\n",
    "import numpy as np\n",
    "from tqdm.notebook import tqdm\n",
    "\n",
    "from src.data.utils.eeg import get_raw\n",
    "\n",
    "# we define the annotations from the two datasets we want to use\n",
    "from src.data.conf.eeg_annotations import braincapture_annotations\n",
    "\n",
    "from src.data.processing import load_data_dict, get_data"
   ]
  },
  {
   "cell_type": "code",
   "execution_count": 2,
   "metadata": {},
   "outputs": [],
   "source": [
    "import logging\n",
    "\n",
    "# Suppress logger messages from MNE-Python\n",
    "mne_logger = logging.getLogger('mne')\n",
    "mne_logger.setLevel(logging.ERROR)"
   ]
  },
  {
   "cell_type": "markdown",
   "metadata": {},
   "source": [
    "## The Structure of the BrainCapture Data"
   ]
  },
  {
   "cell_type": "markdown",
   "metadata": {},
   "source": [
    "Let's start by fetching some BrainCapture data. We define the path to the GCP bucket and inspect the contents."
   ]
  },
  {
   "cell_type": "code",
   "execution_count": 3,
   "metadata": {},
   "outputs": [
    {
     "name": "stdout",
     "output_type": "stream",
     "text": [
      "The BrainCapture dataset contains 133 subject folders and 136 files!\n"
     ]
    }
   ],
   "source": [
    "braincapture_data_folder = r'C:/Users/wille/OneDrive - Danmarks Tekniske Universitet/Dokumenter/0. Thesis/trustworthy-causal-ai/data/hackathon 01/BC Bhutan/v4.0/'\n",
    "\n",
    "subject_folders = os.listdir(braincapture_data_folder)\n",
    "number_files = np.sum([len(os.listdir(braincapture_data_folder + folder)) for folder in subject_folders])\n",
    "\n",
    "print('The BrainCapture dataset contains', len(subject_folders), 'subject folders and', number_files, 'files!')"
   ]
  },
  {
   "cell_type": "markdown",
   "metadata": {},
   "source": [
    "We now look at a specific EDF file, that is, one recording for one subject. EDF is the format in which the EEG data is stored. One EDF file corresponds to one EEG recording. The EDF files can be found in the provided GCP bucket following the structure:"
   ]
  },
  {
   "cell_type": "markdown",
   "metadata": {},
   "source": [
    "```.\n",
    "├── BrainCapture Dataset\n",
    "│   ├── S001\n",
    "│   │   └── S001R01.edf\n",
    "│   ├── S002\n",
    "│   │   └── S002R01.edf\n",
    "│   └── ...\n",
    "└── TUH Dataset\n",
    "```"
   ]
  },
  {
   "cell_type": "markdown",
   "metadata": {},
   "source": [
    "## Inspecting the EEG data"
   ]
  },
  {
   "cell_type": "markdown",
   "metadata": {},
   "source": [
    "We define the path for the specific file. Then, we call the function **get_raw** to extract the EEG data from the EDF file. At the same time, we perform preprocessing on the data. This includes standard signal processing filters and choosing the right EEG electrode channels.\n",
    "\n",
    "**NB: If you are interested in the preprocessing steps, have a look at src.data.utils.eeg.py**"
   ]
  },
  {
   "cell_type": "code",
   "execution_count": 4,
   "metadata": {},
   "outputs": [
    {
     "data": {
      "text/html": [
       "<table class=\"table table-hover table-striped table-sm table-responsive small\">\n",
       "    <tr>\n",
       "        <th>Measurement date</th>\n",
       "        \n",
       "        <td>June 05, 2023  12:53:59 GMT</td>\n",
       "        \n",
       "    </tr>\n",
       "    <tr>\n",
       "        <th>Experimenter</th>\n",
       "        \n",
       "        <td>Unknown</td>\n",
       "        \n",
       "    </tr>\n",
       "        <th>Participant</th>\n",
       "        \n",
       "        <td>Unknown</td>\n",
       "        \n",
       "    </tr>\n",
       "    <tr>\n",
       "        <th>Digitized points</th>\n",
       "        \n",
       "        <td>22 points</td>\n",
       "        \n",
       "    </tr>\n",
       "    <tr>\n",
       "        <th>Good channels</th>\n",
       "        <td>19 EEG, 1 misc</td>\n",
       "    </tr>\n",
       "    <tr>\n",
       "        <th>Bad channels</th>\n",
       "        <td>None</td>\n",
       "    </tr>\n",
       "    <tr>\n",
       "        <th>EOG channels</th>\n",
       "        <td>Not available</td>\n",
       "    </tr>\n",
       "    <tr>\n",
       "        <th>ECG channels</th>\n",
       "        <td>Not available</td>\n",
       "    \n",
       "    <tr>\n",
       "        <th>Sampling frequency</th>\n",
       "        <td>256.00 Hz</td>\n",
       "    </tr>\n",
       "    \n",
       "    \n",
       "    <tr>\n",
       "        <th>Highpass</th>\n",
       "        <td>1.00 Hz</td>\n",
       "    </tr>\n",
       "    \n",
       "    \n",
       "    <tr>\n",
       "        <th>Lowpass</th>\n",
       "        <td>70.00 Hz</td>\n",
       "    </tr>\n",
       "    \n",
       "    \n",
       "    \n",
       "    <tr>\n",
       "        <th>Duration</th>\n",
       "        <td>00:31:08 (HH:MM:SS)</td>\n",
       "    </tr>\n",
       "</table>"
      ],
      "text/plain": [
       "<RawArray | 20 x 478208 (1868.0 s), ~73.0 MB, data loaded>"
      ]
     },
     "execution_count": 4,
     "metadata": {},
     "output_type": "execute_result"
    }
   ],
   "source": [
    "subject = 'S001'\n",
    "session = 'R01'\n",
    "\n",
    "example_file = braincapture_data_folder + f'{subject}/{subject}{session}.edf'\n",
    "\n",
    "raw = get_raw(example_file)\n",
    "raw"
   ]
  },
  {
   "cell_type": "markdown",
   "metadata": {},
   "source": [
    "The **raw object** contains the EEG data as well as meta data related to the recording such as number of channels, sampling frequency, and band pass filters (see https://en.wikipedia.org/wiki/Band-pass_filter). EEG data consists of the electrical brainwave signals collected at different locations on the scalp of the head. We describe these different signals as channels. the **raw object** contains a lot of interesting information about the recording. For example, the channel names or types can be extracted:"
   ]
  },
  {
   "cell_type": "code",
   "execution_count": 5,
   "metadata": {},
   "outputs": [
    {
     "name": "stdout",
     "output_type": "stream",
     "text": [
      "Channel names: \n",
      " ['Fp1', 'Fp2', 'F7', 'F3', 'Fz', 'F4', 'F8', 'T7', 'C3', 'Cz', 'C4', 'T8', 'P7', 'P3', 'Pz', 'P4', 'P8', 'O1', 'O2', 'scaling']\n",
      "Channel types: \n",
      " ['eeg', 'eeg', 'eeg', 'eeg', 'eeg', 'eeg', 'eeg', 'eeg', 'eeg', 'eeg', 'eeg', 'eeg', 'eeg', 'eeg', 'eeg', 'eeg', 'eeg', 'eeg', 'eeg', 'misc']\n"
     ]
    }
   ],
   "source": [
    "print('Channel names: \\n', raw.info['ch_names'])\n",
    "print('Channel types: \\n', raw.get_channel_types())"
   ]
  },
  {
   "cell_type": "markdown",
   "metadata": {},
   "source": [
    "We see that most of the channels contain EEG data while the last channel is used for scaling. We can use the Python library **MNE** to manipulate raw objects and to visualise properties of EEG recordings. Here, we look at the placement of the 19 EEG electrodes:"
   ]
  },
  {
   "cell_type": "code",
   "execution_count": 6,
   "metadata": {},
   "outputs": [
    {
     "data": {
      "image/png": "[encoded data removed]",
      "text/plain": [
       "<Figure size 1400x400 with 1 Axes>"
      ]
     },
     "metadata": {},
     "output_type": "display_data"
    }
   ],
   "source": [
    "import mne\n",
    "import matplotlib.pyplot as plt\n",
    "\n",
    "fig, ax = plt.subplots(1, 1, figsize=(14, 4))\n",
    "mne.viz.plot_sensors(raw.info, show_names=True, axes=ax);"
   ]
  },
  {
   "cell_type": "markdown",
   "metadata": {},
   "source": [
    "The electrodes follow the standard 1020 configuration (see: https://en.wikipedia.org/wiki/10%E2%80%9320_system_(EEG)). For further inspection of the EEG signals, we recommend opening the EDF files in the EDFbrowser application - please ask for guidance."
   ]
  },
  {
   "cell_type": "markdown",
   "metadata": {},
   "source": [
    "## Loading the Entire Dataset"
   ]
  },
  {
   "cell_type": "markdown",
   "metadata": {},
   "source": [
    "To load the entire BrainCapture dataset, we use **load_data_dict**. This function loads every EDF files in the dataset using **get_raw** and when **labels = True**, extracts the annotations from the EDf file. The reason we store the data in a dictionary is to maintain subject level information. This is useful if we wish to perform (leave-subject(s)-out) cross-validation at a later point."
   ]
  },
  {
   "cell_type": "code",
   "execution_count": 7,
   "metadata": {},
   "outputs": [
    {
     "name": "stderr",
     "output_type": "stream",
     "text": [
      "  0%|          | 0/133 [00:00<?, ?it/s]"
     ]
    },
    {
     "name": "stdout",
     "output_type": "stream",
     "text": [
      "Using data from preloaded Raw for 5 events and 1537 original time points ...\n",
      "0 bad epochs dropped\n"
     ]
    },
    {
     "name": "stderr",
     "output_type": "stream",
     "text": [
      "  1%|          | 1/133 [00:01<02:21,  1.07s/it]"
     ]
    },
    {
     "name": "stdout",
     "output_type": "stream",
     "text": [
      "Using data from preloaded Raw for 6 events and 1537 original time points ...\n",
      "0 bad epochs dropped\n"
     ]
    },
    {
     "name": "stderr",
     "output_type": "stream",
     "text": [
      "  2%|▏         | 2/133 [00:02<02:21,  1.08s/it]"
     ]
    },
    {
     "name": "stdout",
     "output_type": "stream",
     "text": [
      "Using data from preloaded Raw for 6 events and 1537 original time points ...\n",
      "0 bad epochs dropped\n"
     ]
    },
    {
     "name": "stderr",
     "output_type": "stream",
     "text": [
      "  2%|▏         | 3/133 [00:03<02:22,  1.10s/it]"
     ]
    },
    {
     "name": "stdout",
     "output_type": "stream",
     "text": [
      "Using data from preloaded Raw for 6 events and 1537 original time points ...\n",
      "0 bad epochs dropped\n"
     ]
    },
    {
     "name": "stderr",
     "output_type": "stream",
     "text": [
      "  3%|▎         | 4/133 [00:04<02:26,  1.14s/it]"
     ]
    }
   ],
   "source": [
    "data_dict = load_data_dict(data_folder_path=braincapture_data_folder, annotation_dict=braincapture_annotations, tmin=-0.5, tlen=6, labels=True)"
   ]
  },
  {
   "cell_type": "markdown",
   "metadata": {},
   "source": [
    "The **load_data_dict** allows for data extraction with (**labels = True**) or without (**labels == False**, default) labels. If **labels = True**, we need to provide **annotation_dict** containing information about the annotations that we want to extract as labels. In the beginning of the script, we import **braincapture_annotations** that contain a dict of the annotations that are present in the BrainCapture dataset."
   ]
  }
 ],
 "metadata": {
  "kernelspec": {
   "display_name": "braincapture",
   "language": "python",
   "name": "python3"
  },
  "language_info": {
   "codemirror_mode": {
    "name": "ipython",
    "version": 3
   },
   "file_extension": ".py",
   "mimetype": "text/x-python",
   "name": "python",
   "nbconvert_exporter": "python",
   "pygments_lexer": "ipython3",
   "version": "3.11.4"
  }
 },
 "nbformat": 4,
 "nbformat_minor": 2
}
